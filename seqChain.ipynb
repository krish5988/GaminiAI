{
 "cells": [
  {
   "cell_type": "code",
   "execution_count": 3,
   "metadata": {},
   "outputs": [
    {
     "name": "stdout",
     "output_type": "stream",
     "text": [
      "\n",
      "\n",
      "\u001b[1m> Entering new SimpleSequentialChain chain...\u001b[0m\n",
      "\u001b[36;1m\u001b[1;3m```python\n",
      "def tower_of_hanoi(n, from_rod, to_rod, aux_rod):\n",
      "    \"\"\"\n",
      "    Move n disks from the 'from_rod' to the 'to_rod'\n",
      "    using the 'aux_rod' as an intermediary.\n",
      "\n",
      "    Parameters:\n",
      "        n: The number of disks to move.\n",
      "        from_rod: The rod to move the disks from.\n",
      "        to_rod: The rod to move the disks to.\n",
      "        aux_rod: The rod to use as an intermediary.\n",
      "    \"\"\"\n",
      "\n",
      "    if n == 1:\n",
      "        print(f\"Move disk 1 from {from_rod} to {to_rod}\")\n",
      "        return\n",
      "\n",
      "    tower_of_hanoi(n - 1, from_rod, aux_rod, to_rod)\n",
      "    print(f\"Move disk {n} from {from_rod} to {to_rod}\")\n",
      "    tower_of_hanoi(n - 1, aux_rod, to_rod, from_rod)\n",
      "\n",
      "```\u001b[0m\n",
      "\u001b[33;1m\u001b[1;3mThe given Python code is a function `tower_of_hanoi` that solves the Tower of Hanoi puzzle using recursion. The Tower of Hanoi puzzle is a mathematical puzzle where we have a number of disks of different sizes, stacked in a neat pile on one of three rods. The objective of the puzzle is to move the entire stack to another rod, obeying the following simple rules:\n",
      "\n",
      "1. Only one disk can be moved at a time.\n",
      "2. Each move consists of taking the upper disk from one of the stacks and placing it on top of another stack or on an empty rod.\n",
      "3. No disk may be placed on top of a smaller disk.\n",
      "\n",
      "The function takes four parameters:\n",
      "\n",
      "* `n`: The number of disks to move.\n",
      "* `from_rod`: The rod to move the disks from.\n",
      "* `to_rod`: The rod to move the disks to.\n",
      "* `aux_rod`: The rod to use as an intermediary.\n",
      "\n",
      "The function uses recursion to solve the puzzle. The base case is when `n` is equal to 1. In this case, the function simply prints the move that needs to be made to move the single disk from the `from_rod` to the `to_rod`.\n",
      "\n",
      "If `n` is greater than 1, the function first calls itself to move the top `n-1` disks from the `from_rod` to the `aux_rod`, using the `to_rod` as an intermediary. This leaves the largest disk on the `from_rod`. The function then prints the move that needs to be made to move the largest disk from the `from_rod` to the `to_rod`. Finally, the function calls itself again to move the `n-1` disks from the `aux_rod` to the `to_rod`, using the `from_rod` as an intermediary.\n",
      "\n",
      "Here is an example of how the function works:\n",
      "\n",
      "```python\n",
      "tower_of_hanoi(3, 'A', 'C', 'B')\n",
      "```\n",
      "\n",
      "This will print the following output:\n",
      "\n",
      "```\n",
      "Move disk 1 from A to C\n",
      "Move disk 2 from A to B\n",
      "Move disk 1 from C to B\n",
      "Move disk 3 from A to C\n",
      "Move disk 1 from B to A\n",
      "Move disk 2 from B to C\n",
      "Move disk 1 from A to C\n",
      "```\n",
      "\n",
      "This output shows the steps that need to be taken to move the three disks from rod A to rod C, using rod B as an intermediary.\u001b[0m\n",
      "\n",
      "\u001b[1m> Finished chain.\u001b[0m\n"
     ]
    },
    {
     "data": {
      "text/plain": [
       "{'input': 'Tower Of Hanoi',\n",
       " 'output': \"The given Python code is a function `tower_of_hanoi` that solves the Tower of Hanoi puzzle using recursion. The Tower of Hanoi puzzle is a mathematical puzzle where we have a number of disks of different sizes, stacked in a neat pile on one of three rods. The objective of the puzzle is to move the entire stack to another rod, obeying the following simple rules:\\n\\n1. Only one disk can be moved at a time.\\n2. Each move consists of taking the upper disk from one of the stacks and placing it on top of another stack or on an empty rod.\\n3. No disk may be placed on top of a smaller disk.\\n\\nThe function takes four parameters:\\n\\n* `n`: The number of disks to move.\\n* `from_rod`: The rod to move the disks from.\\n* `to_rod`: The rod to move the disks to.\\n* `aux_rod`: The rod to use as an intermediary.\\n\\nThe function uses recursion to solve the puzzle. The base case is when `n` is equal to 1. In this case, the function simply prints the move that needs to be made to move the single disk from the `from_rod` to the `to_rod`.\\n\\nIf `n` is greater than 1, the function first calls itself to move the top `n-1` disks from the `from_rod` to the `aux_rod`, using the `to_rod` as an intermediary. This leaves the largest disk on the `from_rod`. The function then prints the move that needs to be made to move the largest disk from the `from_rod` to the `to_rod`. Finally, the function calls itself again to move the `n-1` disks from the `aux_rod` to the `to_rod`, using the `from_rod` as an intermediary.\\n\\nHere is an example of how the function works:\\n\\n```python\\ntower_of_hanoi(3, 'A', 'C', 'B')\\n```\\n\\nThis will print the following output:\\n\\n```\\nMove disk 1 from A to C\\nMove disk 2 from A to B\\nMove disk 1 from C to B\\nMove disk 3 from A to C\\nMove disk 1 from B to A\\nMove disk 2 from B to C\\nMove disk 1 from A to C\\n```\\n\\nThis output shows the steps that need to be taken to move the three disks from rod A to rod C, using rod B as an intermediary.\"}"
      ]
     },
     "execution_count": 3,
     "metadata": {},
     "output_type": "execute_result"
    }
   ],
   "source": [
    "from langchain_google_genai import ChatGoogleGenerativeAI\n",
    "from langchain import PromptTemplate\n",
    "from langchain.chains import LLMChain,SimpleSequentialChain\n",
    "\n",
    "llm1=ChatGoogleGenerativeAI(model=\"gemini-pro\",temperature=0.9)\n",
    "promptTemplate = PromptTemplate.from_template(\n",
    "    template = \"Write a function that implements the concept of {concept}\"\n",
    ")\n",
    "chain1 = LLMChain(llm=llm1,prompt=promptTemplate)\n",
    "llm2=ChatGoogleGenerativeAI(model=\"gemini-pro\",temperature=0.9)\n",
    "promptTemplate1 = PromptTemplate.from_template(\n",
    "    template = \"Given the python {function},describe as detailed as possible\"\n",
    ")\n",
    "chain2 = LLMChain(llm=llm2,prompt=promptTemplate1)\n",
    "\n",
    "overall_chain=SimpleSequentialChain(chains=[chain1,chain2],verbose=True)\n",
    "output = overall_chain.invoke(\"Tower Of Hanoi\")\n",
    "output\n",
    "\n",
    "\n"
   ]
  }
 ],
 "metadata": {
  "kernelspec": {
   "display_name": "Python 3",
   "language": "python",
   "name": "python3"
  },
  "language_info": {
   "codemirror_mode": {
    "name": "ipython",
    "version": 3
   },
   "file_extension": ".py",
   "mimetype": "text/x-python",
   "name": "python",
   "nbconvert_exporter": "python",
   "pygments_lexer": "ipython3",
   "version": "3.11.5"
  }
 },
 "nbformat": 4,
 "nbformat_minor": 2
}
